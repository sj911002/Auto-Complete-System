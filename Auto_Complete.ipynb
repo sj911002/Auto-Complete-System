{
  "nbformat": 4,
  "nbformat_minor": 0,
  "metadata": {
    "colab": {
      "name": "Auto-Complete.ipynb",
      "provenance": []
    },
    "kernelspec": {
      "name": "python3",
      "display_name": "Python 3"
    },
    "language_info": {
      "name": "python"
    },
    "accelerator": "GPU"
  },
  "cells": [
    {
      "cell_type": "markdown",
      "metadata": {
        "id": "jsxMUJCK_8SQ"
      },
      "source": [
        "# Auto-Complete \n",
        "\n",
        "Auto-complete is a feature in which an application predicts the rest of a word a user is typing (predictive text). In this project I aim to build a prototype of an auto-complete system. A key building block for an auto-complete system is a language model. A language model assigns the probability to a sequence of words, in a way that more \"likely\" sequences receive higher scores. This project uses N-grams, a simple but powerful method for language modeling.\n",
        "\n",
        "**Dataset:** Text corpus from Twitter"
      ]
    },
    {
      "cell_type": "code",
      "metadata": {
        "colab": {
          "base_uri": "https://localhost:8080/"
        },
        "id": "km5_Vff85etg",
        "outputId": "6d7bd68e-6c74-4caa-9c32-a66356b621ea"
      },
      "source": [
        "# Importing libraries\n",
        "import math\n",
        "import random\n",
        "import numpy as np\n",
        "import pandas as pd\n",
        "\n",
        "import nltk\n",
        "nltk.download('punkt')\n",
        "nltk.data.path.append('.')"
      ],
      "execution_count": 1,
      "outputs": [
        {
          "output_type": "stream",
          "name": "stdout",
          "text": [
            "[nltk_data] Downloading package punkt to /root/nltk_data...\n",
            "[nltk_data]   Package punkt is already up-to-date!\n"
          ]
        }
      ]
    },
    {
      "cell_type": "markdown",
      "metadata": {
        "id": "_BgBbiJ_56f7"
      },
      "source": [
        "## Loading and Preprocessing the data"
      ]
    },
    {
      "cell_type": "markdown",
      "metadata": {
        "id": "lAqxPNTtOysD"
      },
      "source": [
        "Steps involved:\n",
        "1. Loading the data\n",
        "2. Preprocessing the data <br>\n",
        "  2.1. Split the data into sentences <br>\n",
        "  2.2. Split each sentence into tokens (words) <br>\n",
        "  2.3. Assign sentences into train or test sets (no validation set) <br>\n",
        "  2.4. Handling OOV words \n"
      ]
    },
    {
      "cell_type": "markdown",
      "metadata": {
        "id": "FMrquuKKE8bI"
      },
      "source": [
        "### Loading the data\n",
        "Loading the twitter data and viewing the first few sentences."
      ]
    },
    {
      "cell_type": "code",
      "metadata": {
        "colab": {
          "base_uri": "https://localhost:8080/"
        },
        "id": "113HSSDWcXdl",
        "outputId": "c5a9dd02-5949-47c5-f8cf-b08a1ab7acfc"
      },
      "source": [
        "# Loading the data\n",
        "with open(\"/content/en_US.twitter.txt\", \"r\") as f:\n",
        "  text = f.read()\n",
        "\n",
        "# Exploring the text\n",
        "print(\"Data type: \", type(text))\n",
        "print(\"Number of letters: \", len(text))\n",
        "print(\"-----------------------------------------------------------\")\n",
        "print(\"First 300 letters of the text\\n\")\n",
        "print(text[:300])\n",
        "print(\"-----------------------------------------------------------\")\n",
        "\n",
        "print(\"-----------------------------------------------------------\")\n",
        "print(\"Last 300 letters of the text\\n\")\n",
        "print(text[-300:])\n",
        "print(\"-----------------------------------------------------------\")"
      ],
      "execution_count": 2,
      "outputs": [
        {
          "output_type": "stream",
          "name": "stdout",
          "text": [
            "Data type:  <class 'str'>\n",
            "Number of letters:  164456396\n",
            "-----------------------------------------------------------\n",
            "First 300 letters of the text\n",
            "\n",
            "How are you? Btw thanks for the RT. You gonna be in DC anytime soon? Love to see you. Been way, way too long.\n",
            "When you meet someone special... you'll know. Your heart will beat more rapidly and you'll smile for no reason.\n",
            "they've decided its more fun if I don't.\n",
            "So Tired D; Played Lazer Tag & Ran A \n",
            "-----------------------------------------------------------\n",
            "-----------------------------------------------------------\n",
            "Last 300 letters of the text\n",
            "\n",
            "od. I see the success you got poppin in yo area.\n",
            "RT : Consumers are visual. They want data at their finger tips. Mobile is the only way to deliver this, 24/7.\n",
            "u welcome\n",
            "It is #RHONJ time!!\n",
            "The key to keeping your woman happy= attention, affection, treat her like a queen and sex her like a pornstar!\n",
            "\n",
            "-----------------------------------------------------------\n"
          ]
        }
      ]
    },
    {
      "cell_type": "markdown",
      "metadata": {
        "id": "TzMnbLIIFMr3"
      },
      "source": [
        "The data is a long string that contains many tweets, with a line break between tweets."
      ]
    },
    {
      "cell_type": "markdown",
      "metadata": {
        "id": "jV0cJ5HycrnE"
      },
      "source": [
        "### Preprocess the data"
      ]
    },
    {
      "cell_type": "markdown",
      "metadata": {
        "id": "_bImsWsoFfWD"
      },
      "source": [
        "Step 1: Split the data into sentences using the \"\\n\" delimiter"
      ]
    },
    {
      "cell_type": "code",
      "metadata": {
        "id": "8_kHeDWgeBE3"
      },
      "source": [
        "def split_to_sentences(text):\n",
        "  \"\"\"\n",
        "  Split data by linebreak (\"\\n\")\n",
        "  \n",
        "  Arguments:\n",
        "    text - str\n",
        "  Returns: \n",
        "    A list of sentences\n",
        "  \"\"\"\n",
        "  sentences = text.split(\"\\n\")\n",
        "  # Removing leading and trailing spaces from each sentence.\n",
        "  sentences = [s.strip() for s in sentences]  \n",
        "  # Drop sentences if they are empty strings. \n",
        "  sentences = [s for s in sentences if len(s) > 0]\n",
        "  \n",
        "  return sentences"
      ],
      "execution_count": 3,
      "outputs": []
    },
    {
      "cell_type": "markdown",
      "metadata": {
        "id": "nbZ7CeokH2pD"
      },
      "source": [
        "Step 2: Split a sentence into a list of words (all tokens were converted to lowercase at first)\n"
      ]
    },
    {
      "cell_type": "code",
      "metadata": {
        "id": "ENupkP22gcbV"
      },
      "source": [
        "def tokenize_sentences(sentences): \n",
        "  \"\"\"\n",
        "  Tokenize sentences into tokens (words)\n",
        "  \n",
        "  Arguments:\n",
        "    sentences: List of strings\n",
        "  Returns:\n",
        "    List of lists of tokens\n",
        "  \"\"\"\n",
        "  tokenized_sentences = []\n",
        "\n",
        "  for sentence in sentences:\n",
        "    sentence = sentence.lower()  # Convert to lowercase letters.\n",
        "    tokenized = nltk.word_tokenize(sentence)  # Convert to a list of words\n",
        "    tokenized_sentences.append(tokenized)  # Append the list of words to the list of lists\n",
        "\n",
        "  return tokenized_sentences"
      ],
      "execution_count": 4,
      "outputs": []
    },
    {
      "cell_type": "markdown",
      "metadata": {
        "id": "iTlgNBonIKIC"
      },
      "source": [
        "The following function uses the above two functions to get the tokenized data."
      ]
    },
    {
      "cell_type": "code",
      "metadata": {
        "id": "M1ubrFt71RhY"
      },
      "source": [
        "def get_tokenized_data(text):\n",
        "  \"\"\"\n",
        "  Make a list of tokenized sentences.\n",
        "  \n",
        "  Arguments:\n",
        "    text: string\n",
        "  Returns: \n",
        "    List of lists of tokens\n",
        "  \"\"\"\n",
        "  sentences = split_to_sentences(text)\n",
        "  tokenized_sentences = tokenize_sentences(sentences)\n",
        "  \n",
        "  return tokenized_sentences  "
      ],
      "execution_count": 5,
      "outputs": []
    },
    {
      "cell_type": "code",
      "metadata": {
        "colab": {
          "base_uri": "https://localhost:8080/"
        },
        "id": "85qOtdpnIb7Q",
        "outputId": "95c296ff-66a1-48aa-a5a3-02a9b1f823d7"
      },
      "source": [
        "# Testing the function \n",
        "x = \"Ant's take rest for around 8 Minutes in 12 hour period.\\nThe best place in the world to see rainbows is in Hawaii.\\nHot water will turn into ice faster than cold water.\"\n",
        "get_tokenized_data(x)"
      ],
      "execution_count": 6,
      "outputs": [
        {
          "output_type": "execute_result",
          "data": {
            "text/plain": [
              "[['ant',\n",
              "  \"'s\",\n",
              "  'take',\n",
              "  'rest',\n",
              "  'for',\n",
              "  'around',\n",
              "  '8',\n",
              "  'minutes',\n",
              "  'in',\n",
              "  '12',\n",
              "  'hour',\n",
              "  'period',\n",
              "  '.'],\n",
              " ['the',\n",
              "  'best',\n",
              "  'place',\n",
              "  'in',\n",
              "  'the',\n",
              "  'world',\n",
              "  'to',\n",
              "  'see',\n",
              "  'rainbows',\n",
              "  'is',\n",
              "  'in',\n",
              "  'hawaii',\n",
              "  '.'],\n",
              " ['hot',\n",
              "  'water',\n",
              "  'will',\n",
              "  'turn',\n",
              "  'into',\n",
              "  'ice',\n",
              "  'faster',\n",
              "  'than',\n",
              "  'cold',\n",
              "  'water',\n",
              "  '.']]"
            ]
          },
          "metadata": {},
          "execution_count": 6
        }
      ]
    },
    {
      "cell_type": "markdown",
      "metadata": {
        "id": "w0C3rI61Yuhq"
      },
      "source": [
        "#### Splitting into train and test sets"
      ]
    },
    {
      "cell_type": "markdown",
      "metadata": {
        "id": "u_0JRAPeModg"
      },
      "source": [
        "Step 3: Split the data into train and test sets and view samples"
      ]
    },
    {
      "cell_type": "code",
      "metadata": {
        "id": "bBlCOVQWY3k8"
      },
      "source": [
        "tokenized_data = get_tokenized_data(text)\n",
        "random.seed(42)\n",
        "random.shuffle(tokenized_data)\n",
        "\n",
        "# Holdout method (i.e. 80% train set and 20% test set)\n",
        "train_size = int(len(tokenized_data) * 0.8)\n",
        "train_data = tokenized_data[0:train_size]\n",
        "test_data = tokenized_data[train_size:]"
      ],
      "execution_count": 7,
      "outputs": []
    },
    {
      "cell_type": "code",
      "metadata": {
        "colab": {
          "base_uri": "https://localhost:8080/"
        },
        "id": "cu9u0ad2aAQ0",
        "outputId": "e9bf6163-3763-49c0-a004-f3ea146888e0"
      },
      "source": [
        "print(f\"{len(tokenized_data)} data are split into {len(train_data)} train and {len(test_data)} test set.\")\n",
        "\n",
        "print(\"First training sample: \")\n",
        "print(train_data[0])\n",
        "\n",
        "print(\"First test sample: \")\n",
        "print(test_data[0])"
      ],
      "execution_count": 8,
      "outputs": [
        {
          "output_type": "stream",
          "name": "stdout",
          "text": [
            "2360148 data are split into 1888118 train and 472030 test set.\n",
            "First training sample: \n",
            "['i', 'hope', 'this', 'fox', '25th', 'anniversary', 'special', 'mentions', 'the', 'short-lived', 'program', 'm.a.n.t.i.s', '.']\n",
            "First test sample: \n",
            "['and', '...', '(', 'hard', 'to', 'keep', 'up', '!', 'you', 'all', 'are', 'great', '!', 'thank', 'you', '!', ')']\n"
          ]
        }
      ]
    },
    {
      "cell_type": "markdown",
      "metadata": {
        "id": "tXv23fdALonM"
      },
      "source": [
        "#### Handling OOV words"
      ]
    },
    {
      "cell_type": "markdown",
      "metadata": {
        "id": "wnfeiSDvL4qI"
      },
      "source": [
        " All the tokens appearing in the data is not used for training, only the more frequently occuring words will be used. \n",
        "Firstly we count the occurences of each word in the data and then we focus on those words that appear at least N times in the data.\n"
      ]
    },
    {
      "cell_type": "markdown",
      "metadata": {
        "id": "aMLapZ4GMwKT"
      },
      "source": [
        "Step 4: Counting the occurences of each word in the data."
      ]
    },
    {
      "cell_type": "code",
      "metadata": {
        "id": "E6eYRjt5b7I6"
      },
      "source": [
        "def count_words(tokenized_sentences):\n",
        "  \"\"\"\n",
        "  Count the number of word appearance in the tokenized sentences\n",
        "\n",
        "  Arguments:\n",
        "    tokenized_sentences: List of lists of strings\n",
        "  Returns:\n",
        "    Dictionary that maps word(str) to the frequency (int)\n",
        "  \"\"\"\n",
        "  word_counts = {}\n",
        "\n",
        "  for sentence in tokenized_sentences:\n",
        "    for token in sentence:\n",
        "      if token not in word_counts:\n",
        "        word_counts[token] = 1\n",
        "      else:\n",
        "        word_counts[token] += 1\n",
        "\n",
        "  return word_counts"
      ],
      "execution_count": 9,
      "outputs": []
    },
    {
      "cell_type": "markdown",
      "metadata": {
        "id": "IpQ8bjSYNUaw"
      },
      "source": [
        "Step 5: Using the function below we create a closed vocabulary list which contains words whose count is greater than or equal to the threshold\n"
      ]
    },
    {
      "cell_type": "code",
      "metadata": {
        "id": "xU55jLpBdtOZ"
      },
      "source": [
        "def get_words_with_nplus_frequency(tokenized_sentences, count_threshold):\n",
        "  \"\"\"\n",
        "  Find the words that appear N times or more\n",
        "\n",
        "  Arguments:\n",
        "    tokenized_sentences: List of lists of sentences\n",
        "    count_threshold: minimum number of occurences for a word to be in the closed vocabulary\n",
        "  Returns:\n",
        "    List of words that appear N times or more\n",
        "  \"\"\"\n",
        "  closed_vocab = []\n",
        "\n",
        "  word_counts = count_words(tokenized_sentences)\n",
        "\n",
        "  for word, cnt in word_counts.items():\n",
        "    if cnt >= count_threshold:\n",
        "      closed_vocab.append(word)\n",
        "  \n",
        "  return closed_vocab"
      ],
      "execution_count": 10,
      "outputs": []
    },
    {
      "cell_type": "markdown",
      "metadata": {
        "id": "swDG5qVeNnNr"
      },
      "source": [
        "Step 6: Here we replace all the words which are not in the closed vocabulary with the token <unk>."
      ]
    },
    {
      "cell_type": "code",
      "metadata": {
        "id": "fU7_rb0ogORx"
      },
      "source": [
        "def replace_oov_words_by_unk(tokenized_sentences, vocabulary, unknown_token=\"<unk>\"):\n",
        "  \"\"\"\n",
        "  Replace words not in the given vocabulary with '<unk>' token.\n",
        "\n",
        "  Arguments:\n",
        "    tokenized_sentences: List of lists of string\n",
        "    vocabulary: List of strings that will be used\n",
        "    unknown_token: A string representing unknown (out-of-vocabulary) words\n",
        "  Returns:\n",
        "    Lists of lists of strings with words not in the vocabulary replaces\n",
        "  \"\"\" \n",
        "  vocabulary = set(vocabulary)\n",
        "\n",
        "  replaced_tokenized_sentences = []\n",
        "\n",
        "  for sentence in tokenized_sentences:\n",
        "    replaced_sentence = []\n",
        "    for token in sentence:\n",
        "      if token in vocabulary:\n",
        "        replaced_sentence.append(token)\n",
        "      else:\n",
        "        replaced_sentence.append(unknown_token)\n",
        "    replaced_tokenized_sentences.append(replaced_sentence)\n",
        "  \n",
        "  return replaced_tokenized_sentences"
      ],
      "execution_count": 11,
      "outputs": []
    },
    {
      "cell_type": "markdown",
      "metadata": {
        "id": "YaekujHmN9u-"
      },
      "source": [
        "Combining all the functions to preprocess the data. The function below does the following: \n",
        "\n",
        "\n",
        "\n",
        "\n",
        "Finds the token that appear at least count threshold times in the training data and replaces the tokens that appear less than the count threshold times by unknown token both for training and testing data. "
      ]
    },
    {
      "cell_type": "code",
      "metadata": {
        "id": "RJKCpeKhiQ3_"
      },
      "source": [
        "def preprocess_data(train_data, test_data, count_threshold):\n",
        "  \"\"\"\n",
        "  Preprocess data (Steps): \n",
        "    1. Find tokens that appear at least N times in the training data.\n",
        "    2. Replace tokens that appear less than N times by \"<unk>\" both fo training and test data\n",
        "  \n",
        "  Arguments:\n",
        "    train_data, test_data: List of lists of strings\n",
        "    count_threshold: Words whose count is less that this are treated as unknown\n",
        "  Returns:\n",
        "    Tuple of training data with low frequent words replaced by \"<unk>\"\n",
        "    Tuple of test data with low frequent words replaced by \"<unk>\"\n",
        "    Vocabulary of words that appear n times or more in the training data\n",
        "  \"\"\"\n",
        "  vocabulary = get_words_with_nplus_frequency(train_data,\n",
        "                                              count_threshold)\n",
        "  train_data_replaced = replace_oov_words_by_unk(train_data, vocabulary)\n",
        "  test_data_replaced = replace_oov_words_by_unk(test_data, vocabulary)\n",
        "\n",
        "  return train_data_replaced, test_data_replaced, vocabulary "
      ],
      "execution_count": 12,
      "outputs": []
    },
    {
      "cell_type": "code",
      "metadata": {
        "id": "Z9ObuOmUlXCX"
      },
      "source": [
        "minimum_frequency = 2\n",
        "train_data_preprocessed, test_data_preprocessed, vocabulary = preprocess_data(train_data,\n",
        "                                                                              test_data,\n",
        "                                                                              minimum_frequency)"
      ],
      "execution_count": 13,
      "outputs": []
    },
    {
      "cell_type": "code",
      "metadata": {
        "colab": {
          "base_uri": "https://localhost:8080/"
        },
        "id": "ghoZNR65nw9v",
        "outputId": "08baae78-9f3e-4aaf-d72b-ad7053137f33"
      },
      "source": [
        "print(\"First preprocessed training sample: \")\n",
        "print(train_data_preprocessed[0])\n",
        "\n",
        "print(\"\\nFirst preprocessed test sample: \")\n",
        "print(test_data_preprocessed[0])\n",
        "\n",
        "print(\"\\nFirst 10 vocabulary: \")\n",
        "print(vocabulary[0:10])\n",
        "\n",
        "print(\"\\nSize of vocabulary: \", len(vocabulary))"
      ],
      "execution_count": 14,
      "outputs": [
        {
          "output_type": "stream",
          "name": "stdout",
          "text": [
            "First preprocessed training sample: \n",
            "['i', 'hope', 'this', 'fox', '25th', 'anniversary', 'special', 'mentions', 'the', 'short-lived', 'program', '<unk>', '.']\n",
            "\n",
            "First preprocessed test sample: \n",
            "['and', '...', '(', 'hard', 'to', 'keep', 'up', '!', 'you', 'all', 'are', 'great', '!', 'thank', 'you', '!', ')']\n",
            "\n",
            "First 10 vocabulary: \n",
            "['i', 'hope', 'this', 'fox', '25th', 'anniversary', 'special', 'mentions', 'the', 'short-lived']\n",
            "\n",
            "Size of vocabulary:  152435\n"
          ]
        }
      ]
    },
    {
      "cell_type": "markdown",
      "metadata": {
        "id": "w_6C8jFJoPpk"
      },
      "source": [
        "## Develop n-gram based language models"
      ]
    },
    {
      "cell_type": "markdown",
      "metadata": {
        "id": "Tbw-wCv2RFIu"
      },
      "source": [
        "Steps: \n",
        "1. Compute the counts of n-grams for abitrary number\n",
        "2. Estimate the probabilities of a word given prior words (uses K-smoothing to handle zero counts)\n",
        "3. Displaying the count and probability matrices\n",
        "4. Evaluating the model"
      ]
    },
    {
      "cell_type": "markdown",
      "metadata": {
        "id": "-8SBqcuwRZmz"
      },
      "source": [
        "Step 1: The function below computes the counts of n-grams for an arbitrary number 'n'."
      ]
    },
    {
      "cell_type": "code",
      "metadata": {
        "id": "AsLROMn_oawe"
      },
      "source": [
        "def count_n_grams(data, n, start_token='<s>', end_token='<e>'):\n",
        "  \"\"\"\n",
        "  Count all n-grams in the data\n",
        "  \n",
        "  Arguments:\n",
        "    data: List of lists of words\n",
        "    n: number of words in a sequence\n",
        "  Returns:\n",
        "    A dictionary that maps a tuple of n-words to its frequency\n",
        "  \"\"\"\n",
        "  n_grams = {}  # Initialize dictionary of n-grams and their counts\n",
        "\n",
        "  for sentence in data:\n",
        "    sentence = [start_token] * n + sentence + [end_token]  # prepend start token n times, and  append <e> one time\n",
        "    sentence = tuple(sentence)\n",
        "    for i in range(len(sentence) - n + 1): # i - indicates the start of the n-gram from index 0 to the last index where the end of the n-gram is within the sentence.\n",
        "      n_gram = sentence[i:i+n]  # Getting the n-gram from i to (i + n)\n",
        "      if n_gram in n_grams:\n",
        "        n_grams[n_gram] += 1\n",
        "      else:\n",
        "        n_grams[n_gram] = 1\n",
        "  \n",
        "  return n_grams"
      ],
      "execution_count": 15,
      "outputs": []
    },
    {
      "cell_type": "markdown",
      "metadata": {
        "id": "DNWLpOB6ShLx"
      },
      "source": [
        "Step 2: Now we estimate the probability of a word given the prior 'n' words using the n-gram counts and a constant k. We use K-smoothing to handle zero counts."
      ]
    },
    {
      "cell_type": "markdown",
      "metadata": {
        "id": "ishlwBibTaE9"
      },
      "source": [
        "Formula to calculate the probability of a word given the prior 'n' words. (Conditional probability)"
      ]
    },
    {
      "cell_type": "markdown",
      "metadata": {
        "id": "4tR_cn35S0Sv"
      },
      "source": [
        "![image.png](data:image/png;base64,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)"
      ]
    },
    {
      "cell_type": "markdown",
      "metadata": {
        "id": "ohFT1UONTv8V"
      },
      "source": [
        "After applying K-smoothing (to handle zero counts)"
      ]
    },
    {
      "cell_type": "markdown",
      "metadata": {
        "id": "qnSupzJATuV0"
      },
      "source": [
        "![image.png](data:image/png;base64,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)"
      ]
    },
    {
      "cell_type": "code",
      "metadata": {
        "id": "pXKNFmkurq7W"
      },
      "source": [
        "def estimate_probability(word, previous_n_gram, n_gram_counts, n_plus1_gram_counts, vocabulary_size, k=1.0):\n",
        "  \"\"\"\n",
        "  Estimate the probabilites of a next word using the n-gram counts with k-smoothing\n",
        "\n",
        "  Arguments:\n",
        "    word: next_word\n",
        "    previous_n_gram: A sequence of words of length n\n",
        "    n_gram_counts: Dictionary of counts of n-grams \n",
        "    n_plus1_gram_counts: Dictionary of counts of (n+1)-grams\n",
        "    vocabulary_size: number of words in the vocabulary\n",
        "    k: a positive constant, smoothing parameter\n",
        "  Returns:\n",
        "    A probability\n",
        "  \"\"\"\n",
        "  previous_n_gram = tuple(previous_n_gram)\n",
        "\n",
        "  previous_n_gram_count = n_gram_counts.get(previous_n_gram, 0)\n",
        "\n",
        "  denominator = previous_n_gram_count + k * vocabulary_size\n",
        "\n",
        "  n_plus1_gram = previous_n_gram + tuple([word])\n",
        "\n",
        "  n_plus1_gram_count = n_plus1_gram_counts.get(n_plus1_gram, 0)\n",
        "\n",
        "  numerator = n_plus1_gram_count + 1\n",
        "\n",
        "  probability = numerator / denominator\n",
        "\n",
        "  return probability \n",
        "  "
      ],
      "execution_count": 16,
      "outputs": []
    },
    {
      "cell_type": "markdown",
      "metadata": {
        "id": "4KK4YFesULid"
      },
      "source": [
        "The function defined below loops over all words in vocabulary to calculate probabilities for all possible words."
      ]
    },
    {
      "cell_type": "code",
      "metadata": {
        "id": "b3Gw_0Y4rIV3"
      },
      "source": [
        "def estimate_probabilities(previous_n_gram, n_gram_counts, n_plus1_gram_counts, vocabulary, k=1.0):\n",
        "  \"\"\"\n",
        "  This function estimates the probabilites of next words using the n-gram counts with k-smoothing\n",
        "\n",
        "  Arguments:\n",
        "    previous_n_gram: A sequence of words of length n \n",
        "    n_gram_counts: Dictionary of counts (n+1)-grams\n",
        "    n_plus1_gram_counts: Dictionary of counts of (n+1)-grams\n",
        "    vocabulary: List of words\n",
        "    k: positive constant, smoothing parameter\n",
        "  Returns:\n",
        "    A dicitonary mapping from next words to the probability\n",
        "  \"\"\"\n",
        "  previous_n_gram = tuple(previous_n_gram)\n",
        "\n",
        "  vocabulary = vocabulary + [\"<e>\", \"<unk>\"]\n",
        "  vocabulary_size = len(vocabulary)\n",
        "\n",
        "  probabilities = {}\n",
        "  for word in vocabulary:\n",
        "    probability = estimate_probability(word, previous_n_gram, n_gram_counts, n_plus1_gram_counts, vocabulary_size, k=k)\n",
        "    probabilities[word] = probability\n",
        "  \n",
        "  return probabilities"
      ],
      "execution_count": 17,
      "outputs": []
    },
    {
      "cell_type": "code",
      "metadata": {
        "colab": {
          "base_uri": "https://localhost:8080/"
        },
        "id": "pLp6dMLHUcJo",
        "outputId": "6a965862-eb93-4b72-ddd3-dca0405f2d29"
      },
      "source": [
        "# Testing the function\n",
        "sentences = [['i', 'like', 'a', 'cat'],\n",
        "             ['this', 'dog', 'is', 'like', 'a', 'cat']]\n",
        "unique_words = list(set(sentences[0] + sentences[1]))\n",
        "unigram_counts = count_n_grams(sentences, 1)\n",
        "bigram_counts = count_n_grams(sentences, 2)\n",
        "estimate_probabilities(\"a\", unigram_counts, bigram_counts, unique_words, k=1)"
      ],
      "execution_count": 18,
      "outputs": [
        {
          "output_type": "execute_result",
          "data": {
            "text/plain": [
              "{'<e>': 0.09090909090909091,\n",
              " '<unk>': 0.09090909090909091,\n",
              " 'a': 0.09090909090909091,\n",
              " 'cat': 0.2727272727272727,\n",
              " 'dog': 0.09090909090909091,\n",
              " 'i': 0.09090909090909091,\n",
              " 'is': 0.09090909090909091,\n",
              " 'like': 0.09090909090909091,\n",
              " 'this': 0.09090909090909091}"
            ]
          },
          "metadata": {},
          "execution_count": 18
        }
      ]
    },
    {
      "cell_type": "markdown",
      "metadata": {
        "id": "ngUI34JwUmVA"
      },
      "source": [
        "Step 3: Count and probability matrix (An intuitive way of presenting the n-gram counts)"
      ]
    },
    {
      "cell_type": "code",
      "metadata": {
        "id": "iodLjX_Ot3OG"
      },
      "source": [
        "def make_count_matrix(n_plus1_gram_counts, vocabulary):\n",
        "  \"\"\"\n",
        "  This function returns count matrices\n",
        "  \"\"\"\n",
        "  vocabulary = vocabulary + [\"<e>\", \"<unk>\"]\n",
        "  \n",
        "  n_grams = []\n",
        "  for n_plus1_gram in n_plus1_gram_counts.keys():\n",
        "    n_gram = n_plus1_gram[0:-1]\n",
        "    n_grams.append(n_gram)\n",
        "  n_grams = list(set(n_grams))\n",
        "\n",
        "  row_index = {n_gram: i for i, n_gram in enumerate(n_grams)}\n",
        "  col_index = {word: j for j, word in enumerate(vocabulary)}\n",
        "\n",
        "  nrow = len(n_grams)\n",
        "  ncol = len(vocabulary)\n",
        "  count_matrix = np.zeros((nrow, ncol))\n",
        "  for n_plus1_gram, count in n_plus1_gram_counts.items():\n",
        "    n_gram = n_plus1_gram[0:-1]\n",
        "    word = n_plus1_gram[-1]\n",
        "    if word not in vocabulary:\n",
        "      continue\n",
        "    i = row_index[n_gram]\n",
        "    j = col_index[word]\n",
        "    count_matrix[i, j] = count\n",
        "\n",
        "  count_matrix = pd.DataFrame(count_matrix, index=n_grams, columns=vocabulary)\n",
        "  return count_matrix\n"
      ],
      "execution_count": 19,
      "outputs": []
    },
    {
      "cell_type": "code",
      "metadata": {
        "colab": {
          "base_uri": "https://localhost:8080/",
          "height": 317
        },
        "id": "vOBk5kCKVF44",
        "outputId": "8382cfa4-184c-46a3-dfef-a4cf811e7b87"
      },
      "source": [
        "# Testing the function\n",
        "sentences = [['i', 'like', 'a', 'cat'],\n",
        "                 ['this', 'dog', 'is', 'like', 'a', 'cat']]\n",
        "unique_words = list(set(sentences[0] + sentences[1]))\n",
        "bigram_counts = count_n_grams(sentences, 2)\n",
        "\n",
        "print('bigram counts')\n",
        "display(make_count_matrix(bigram_counts, unique_words))"
      ],
      "execution_count": 20,
      "outputs": [
        {
          "output_type": "stream",
          "name": "stdout",
          "text": [
            "bigram counts\n"
          ]
        },
        {
          "output_type": "display_data",
          "data": {
            "text/html": [
              "<div>\n",
              "<style scoped>\n",
              "    .dataframe tbody tr th:only-of-type {\n",
              "        vertical-align: middle;\n",
              "    }\n",
              "\n",
              "    .dataframe tbody tr th {\n",
              "        vertical-align: top;\n",
              "    }\n",
              "\n",
              "    .dataframe thead th {\n",
              "        text-align: right;\n",
              "    }\n",
              "</style>\n",
              "<table border=\"1\" class=\"dataframe\">\n",
              "  <thead>\n",
              "    <tr style=\"text-align: right;\">\n",
              "      <th></th>\n",
              "      <th>this</th>\n",
              "      <th>cat</th>\n",
              "      <th>a</th>\n",
              "      <th>like</th>\n",
              "      <th>is</th>\n",
              "      <th>dog</th>\n",
              "      <th>i</th>\n",
              "      <th>&lt;e&gt;</th>\n",
              "      <th>&lt;unk&gt;</th>\n",
              "    </tr>\n",
              "  </thead>\n",
              "  <tbody>\n",
              "    <tr>\n",
              "      <th>(this,)</th>\n",
              "      <td>0.0</td>\n",
              "      <td>0.0</td>\n",
              "      <td>0.0</td>\n",
              "      <td>0.0</td>\n",
              "      <td>0.0</td>\n",
              "      <td>1.0</td>\n",
              "      <td>0.0</td>\n",
              "      <td>0.0</td>\n",
              "      <td>0.0</td>\n",
              "    </tr>\n",
              "    <tr>\n",
              "      <th>(cat,)</th>\n",
              "      <td>0.0</td>\n",
              "      <td>0.0</td>\n",
              "      <td>0.0</td>\n",
              "      <td>0.0</td>\n",
              "      <td>0.0</td>\n",
              "      <td>0.0</td>\n",
              "      <td>0.0</td>\n",
              "      <td>2.0</td>\n",
              "      <td>0.0</td>\n",
              "    </tr>\n",
              "    <tr>\n",
              "      <th>(&lt;s&gt;,)</th>\n",
              "      <td>1.0</td>\n",
              "      <td>0.0</td>\n",
              "      <td>0.0</td>\n",
              "      <td>0.0</td>\n",
              "      <td>0.0</td>\n",
              "      <td>0.0</td>\n",
              "      <td>1.0</td>\n",
              "      <td>0.0</td>\n",
              "      <td>0.0</td>\n",
              "    </tr>\n",
              "    <tr>\n",
              "      <th>(dog,)</th>\n",
              "      <td>0.0</td>\n",
              "      <td>0.0</td>\n",
              "      <td>0.0</td>\n",
              "      <td>0.0</td>\n",
              "      <td>1.0</td>\n",
              "      <td>0.0</td>\n",
              "      <td>0.0</td>\n",
              "      <td>0.0</td>\n",
              "      <td>0.0</td>\n",
              "    </tr>\n",
              "    <tr>\n",
              "      <th>(i,)</th>\n",
              "      <td>0.0</td>\n",
              "      <td>0.0</td>\n",
              "      <td>0.0</td>\n",
              "      <td>1.0</td>\n",
              "      <td>0.0</td>\n",
              "      <td>0.0</td>\n",
              "      <td>0.0</td>\n",
              "      <td>0.0</td>\n",
              "      <td>0.0</td>\n",
              "    </tr>\n",
              "    <tr>\n",
              "      <th>(like,)</th>\n",
              "      <td>0.0</td>\n",
              "      <td>0.0</td>\n",
              "      <td>2.0</td>\n",
              "      <td>0.0</td>\n",
              "      <td>0.0</td>\n",
              "      <td>0.0</td>\n",
              "      <td>0.0</td>\n",
              "      <td>0.0</td>\n",
              "      <td>0.0</td>\n",
              "    </tr>\n",
              "    <tr>\n",
              "      <th>(is,)</th>\n",
              "      <td>0.0</td>\n",
              "      <td>0.0</td>\n",
              "      <td>0.0</td>\n",
              "      <td>1.0</td>\n",
              "      <td>0.0</td>\n",
              "      <td>0.0</td>\n",
              "      <td>0.0</td>\n",
              "      <td>0.0</td>\n",
              "      <td>0.0</td>\n",
              "    </tr>\n",
              "    <tr>\n",
              "      <th>(a,)</th>\n",
              "      <td>0.0</td>\n",
              "      <td>2.0</td>\n",
              "      <td>0.0</td>\n",
              "      <td>0.0</td>\n",
              "      <td>0.0</td>\n",
              "      <td>0.0</td>\n",
              "      <td>0.0</td>\n",
              "      <td>0.0</td>\n",
              "      <td>0.0</td>\n",
              "    </tr>\n",
              "  </tbody>\n",
              "</table>\n",
              "</div>"
            ],
            "text/plain": [
              "         this  cat    a  like   is  dog    i  <e>  <unk>\n",
              "(this,)   0.0  0.0  0.0   0.0  0.0  1.0  0.0  0.0    0.0\n",
              "(cat,)    0.0  0.0  0.0   0.0  0.0  0.0  0.0  2.0    0.0\n",
              "(<s>,)    1.0  0.0  0.0   0.0  0.0  0.0  1.0  0.0    0.0\n",
              "(dog,)    0.0  0.0  0.0   0.0  1.0  0.0  0.0  0.0    0.0\n",
              "(i,)      0.0  0.0  0.0   1.0  0.0  0.0  0.0  0.0    0.0\n",
              "(like,)   0.0  0.0  2.0   0.0  0.0  0.0  0.0  0.0    0.0\n",
              "(is,)     0.0  0.0  0.0   1.0  0.0  0.0  0.0  0.0    0.0\n",
              "(a,)      0.0  2.0  0.0   0.0  0.0  0.0  0.0  0.0    0.0"
            ]
          },
          "metadata": {}
        }
      ]
    },
    {
      "cell_type": "markdown",
      "metadata": {
        "id": "xDJIS6dTVP0U"
      },
      "source": [
        "The following function calculates the probabilities of each word given the previous n-gram, and stores this in matrix form."
      ]
    },
    {
      "cell_type": "code",
      "metadata": {
        "id": "MlPUVuwWxLMP"
      },
      "source": [
        "def make_probability_matrix(n_plus1_gram_counts, vocabulary, k):\n",
        "  count_matrix = make_count_matrix(n_plus1_gram_counts, vocabulary)\n",
        "  count_matrix += k\n",
        "  prob_matrix = count_matrix.div(count_matrix.sum(axis=1), axis=0)\n",
        "  return prob_matrix"
      ],
      "execution_count": 21,
      "outputs": []
    },
    {
      "cell_type": "code",
      "metadata": {
        "colab": {
          "base_uri": "https://localhost:8080/",
          "height": 317
        },
        "id": "Dh7GeUysVSIk",
        "outputId": "5de5afac-a275-4912-8879-c96e94178e3a"
      },
      "source": [
        "sentences = [['i', 'like', 'a', 'cat'],\n",
        "                 ['this', 'dog', 'is', 'like', 'a', 'cat']]\n",
        "unique_words = list(set(sentences[0] + sentences[1]))\n",
        "bigram_counts = count_n_grams(sentences, 2)\n",
        "print(\"bigram probabilities\")\n",
        "display(make_probability_matrix(bigram_counts, unique_words, k=1))"
      ],
      "execution_count": 22,
      "outputs": [
        {
          "output_type": "stream",
          "name": "stdout",
          "text": [
            "bigram probabilities\n"
          ]
        },
        {
          "output_type": "display_data",
          "data": {
            "text/html": [
              "<div>\n",
              "<style scoped>\n",
              "    .dataframe tbody tr th:only-of-type {\n",
              "        vertical-align: middle;\n",
              "    }\n",
              "\n",
              "    .dataframe tbody tr th {\n",
              "        vertical-align: top;\n",
              "    }\n",
              "\n",
              "    .dataframe thead th {\n",
              "        text-align: right;\n",
              "    }\n",
              "</style>\n",
              "<table border=\"1\" class=\"dataframe\">\n",
              "  <thead>\n",
              "    <tr style=\"text-align: right;\">\n",
              "      <th></th>\n",
              "      <th>this</th>\n",
              "      <th>cat</th>\n",
              "      <th>a</th>\n",
              "      <th>like</th>\n",
              "      <th>is</th>\n",
              "      <th>dog</th>\n",
              "      <th>i</th>\n",
              "      <th>&lt;e&gt;</th>\n",
              "      <th>&lt;unk&gt;</th>\n",
              "    </tr>\n",
              "  </thead>\n",
              "  <tbody>\n",
              "    <tr>\n",
              "      <th>(this,)</th>\n",
              "      <td>0.100000</td>\n",
              "      <td>0.100000</td>\n",
              "      <td>0.100000</td>\n",
              "      <td>0.100000</td>\n",
              "      <td>0.100000</td>\n",
              "      <td>0.200000</td>\n",
              "      <td>0.100000</td>\n",
              "      <td>0.100000</td>\n",
              "      <td>0.100000</td>\n",
              "    </tr>\n",
              "    <tr>\n",
              "      <th>(cat,)</th>\n",
              "      <td>0.090909</td>\n",
              "      <td>0.090909</td>\n",
              "      <td>0.090909</td>\n",
              "      <td>0.090909</td>\n",
              "      <td>0.090909</td>\n",
              "      <td>0.090909</td>\n",
              "      <td>0.090909</td>\n",
              "      <td>0.272727</td>\n",
              "      <td>0.090909</td>\n",
              "    </tr>\n",
              "    <tr>\n",
              "      <th>(&lt;s&gt;,)</th>\n",
              "      <td>0.181818</td>\n",
              "      <td>0.090909</td>\n",
              "      <td>0.090909</td>\n",
              "      <td>0.090909</td>\n",
              "      <td>0.090909</td>\n",
              "      <td>0.090909</td>\n",
              "      <td>0.181818</td>\n",
              "      <td>0.090909</td>\n",
              "      <td>0.090909</td>\n",
              "    </tr>\n",
              "    <tr>\n",
              "      <th>(dog,)</th>\n",
              "      <td>0.100000</td>\n",
              "      <td>0.100000</td>\n",
              "      <td>0.100000</td>\n",
              "      <td>0.100000</td>\n",
              "      <td>0.200000</td>\n",
              "      <td>0.100000</td>\n",
              "      <td>0.100000</td>\n",
              "      <td>0.100000</td>\n",
              "      <td>0.100000</td>\n",
              "    </tr>\n",
              "    <tr>\n",
              "      <th>(i,)</th>\n",
              "      <td>0.100000</td>\n",
              "      <td>0.100000</td>\n",
              "      <td>0.100000</td>\n",
              "      <td>0.200000</td>\n",
              "      <td>0.100000</td>\n",
              "      <td>0.100000</td>\n",
              "      <td>0.100000</td>\n",
              "      <td>0.100000</td>\n",
              "      <td>0.100000</td>\n",
              "    </tr>\n",
              "    <tr>\n",
              "      <th>(like,)</th>\n",
              "      <td>0.090909</td>\n",
              "      <td>0.090909</td>\n",
              "      <td>0.272727</td>\n",
              "      <td>0.090909</td>\n",
              "      <td>0.090909</td>\n",
              "      <td>0.090909</td>\n",
              "      <td>0.090909</td>\n",
              "      <td>0.090909</td>\n",
              "      <td>0.090909</td>\n",
              "    </tr>\n",
              "    <tr>\n",
              "      <th>(is,)</th>\n",
              "      <td>0.100000</td>\n",
              "      <td>0.100000</td>\n",
              "      <td>0.100000</td>\n",
              "      <td>0.200000</td>\n",
              "      <td>0.100000</td>\n",
              "      <td>0.100000</td>\n",
              "      <td>0.100000</td>\n",
              "      <td>0.100000</td>\n",
              "      <td>0.100000</td>\n",
              "    </tr>\n",
              "    <tr>\n",
              "      <th>(a,)</th>\n",
              "      <td>0.090909</td>\n",
              "      <td>0.272727</td>\n",
              "      <td>0.090909</td>\n",
              "      <td>0.090909</td>\n",
              "      <td>0.090909</td>\n",
              "      <td>0.090909</td>\n",
              "      <td>0.090909</td>\n",
              "      <td>0.090909</td>\n",
              "      <td>0.090909</td>\n",
              "    </tr>\n",
              "  </tbody>\n",
              "</table>\n",
              "</div>"
            ],
            "text/plain": [
              "             this       cat         a  ...         i       <e>     <unk>\n",
              "(this,)  0.100000  0.100000  0.100000  ...  0.100000  0.100000  0.100000\n",
              "(cat,)   0.090909  0.090909  0.090909  ...  0.090909  0.272727  0.090909\n",
              "(<s>,)   0.181818  0.090909  0.090909  ...  0.181818  0.090909  0.090909\n",
              "(dog,)   0.100000  0.100000  0.100000  ...  0.100000  0.100000  0.100000\n",
              "(i,)     0.100000  0.100000  0.100000  ...  0.100000  0.100000  0.100000\n",
              "(like,)  0.090909  0.090909  0.272727  ...  0.090909  0.090909  0.090909\n",
              "(is,)    0.100000  0.100000  0.100000  ...  0.100000  0.100000  0.100000\n",
              "(a,)     0.090909  0.272727  0.090909  ...  0.090909  0.090909  0.090909\n",
              "\n",
              "[8 rows x 9 columns]"
            ]
          },
          "metadata": {}
        }
      ]
    },
    {
      "cell_type": "markdown",
      "metadata": {
        "id": "wrxTSJ1-WMbz"
      },
      "source": [
        "Step 4: Evaluating the model using Perplexity score on the test set"
      ]
    },
    {
      "cell_type": "markdown",
      "metadata": {
        "id": "8zVSyjTxWzgv"
      },
      "source": [
        "Perplexity is used to tell us whether a set of sentences look like they were written by humans rather than by a simple program choosing words at random. A text that is written by humans is more likely to have lower perplexity, where a text generated by random word choice would have a higher perplexity.<br>Formula to compute the perplexity score: "
      ]
    },
    {
      "cell_type": "markdown",
      "metadata": {
        "id": "YGP5YrOKW9R3"
      },
      "source": [
        "![image.png](data:image/png;base64,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)"
      ]
    },
    {
      "cell_type": "markdown",
      "metadata": {
        "id": "zlpCCh6VWtKb"
      },
      "source": [
        "The function below computes the perplexity score given an N-gram count matrix and a sentence."
      ]
    },
    {
      "cell_type": "code",
      "metadata": {
        "id": "tqR8zgIVygaO"
      },
      "source": [
        "def calculate_perplexity(sentence, n_gram_counts, n_plus1_gram_counts, vocabulary_size, k=1.0):\n",
        "  \"\"\"\n",
        "  Calculates perplexity for a list of sentences\n",
        "\n",
        "  Arguments:\n",
        "    sentence: List of strings\n",
        "    n_gram_counts: Dictionary of counts of n-grams\n",
        "    n_plus1_gram_counts: Dictionary of counts of (n+1)-grams\n",
        "    vocabulary_size: number of unique words in the vocabulary\n",
        "    k: positive smoothing constant\n",
        "  Returns:\n",
        "    Perplexity score\n",
        "  \"\"\"\n",
        "  n = len(list(n_gram_counts.keys())[0])\n",
        "  \n",
        "  sentence = [\"<s>\"] * n + sentence + [\"<e>\"]\n",
        "  sentence = tuple(sentence)\n",
        "\n",
        "  N = len(sentence)\n",
        "  product_pi = 1.0\n",
        "  for t in range(n, N):\n",
        "    n_gram = sentence[t-n:t]\n",
        "    word = sentence[t]\n",
        "    probability = estimate_probability(word, n_gram, n_gram_counts, n_plus1_gram_counts, vocabulary_size, k)\n",
        "    product_pi *= 1 / probability\n",
        "\n",
        "  perplexity = product_pi ** (1/N)\n",
        "  \n",
        "  return perplexity\n",
        "\n"
      ],
      "execution_count": 23,
      "outputs": []
    },
    {
      "cell_type": "markdown",
      "metadata": {
        "id": "_Vj07LUMXjbo"
      },
      "source": [
        "To handle longer sentences, sum of the log of the probabilities are used and evaluation is performed."
      ]
    },
    {
      "cell_type": "markdown",
      "metadata": {
        "id": "cRGERutTOhjc"
      },
      "source": [
        "![image.png](data:image/png;base64,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)"
      ]
    },
    {
      "cell_type": "code",
      "metadata": {
        "id": "FLy5dJHL_pBv"
      },
      "source": [
        "def calculate_perplexity_log(sentence, n_gram_counts, n_plus1_gram_counts, vocabulary_size, k=1.0):\n",
        "  \"\"\"\n",
        "  Calculates perplexity for a list of sentences\n",
        "\n",
        "  Arguments: \n",
        "    sentence: List of strings\n",
        "    n_gram_counts: Dictionary of counts of n-grams\n",
        "    n_plus1_gram_counts: Dictionary of counts of (n+1)-grams\n",
        "    vocabulary_size: number of unique words in the vocabulary\n",
        "    k: positive smoothing constant\n",
        "  Returns:\n",
        "    Perplexity score\n",
        "  \"\"\"\n",
        "  n = len(list(n_gram_counts.keys())[0])\n",
        "\n",
        "  sentence = [\"<s>\"] + sentence + [\"<e>\"]\n",
        "  sentence = tuple(sentence)\n",
        "\n",
        "  N = len(sentence)\n",
        "  log_pi = 0\n",
        "  for t in range(n, N):\n",
        "    n_gram = sentence[t-n:t]\n",
        "    word = sentence[t]\n",
        "    probability = estimate_probability(word, n_gram, n_gram_counts, n_plus1_gram_counts, vocabulary_size, k)\n",
        "    log_pi += np.log(probability)\n",
        "\n",
        "  perplexity = -1/(N - n) * log_pi\n",
        "\n",
        "  return perplexity"
      ],
      "execution_count": 24,
      "outputs": []
    },
    {
      "cell_type": "code",
      "metadata": {
        "colab": {
          "base_uri": "https://localhost:8080/"
        },
        "id": "j6KJHfwmhmin",
        "outputId": "1119c26d-1773-4b95-a733-d897cb2cfb72"
      },
      "source": [
        "# Testing the fuction\n",
        "sentences = [['i', 'like', 'a', 'cat'],\n",
        "             ['this', 'dog', 'is', 'like', 'a', 'cat']]\n",
        "unique_words = list(set(sentences[0] + sentences[1]))\n",
        "\n",
        "unigram_counts = count_n_grams(sentences, 1)\n",
        "bigram_counts = count_n_grams(sentences, 2)\n",
        "\n",
        "previous_tokens = [\"i\", \"like\"]\n",
        "sample_score = calculate_perplexity(previous_tokens, unigram_counts, bigram_counts, len(unique_words), k=1.0)\n",
        "print(f\"Perplexity score: {sample_score}\")\n",
        "sample_score_log = calculate_perplexity_log(previous_tokens, unigram_counts, bigram_counts, len(unique_words), k=1.0)\n",
        "print(f\"Log perplexity score: {sample_score_log}\")"
      ],
      "execution_count": 34,
      "outputs": [
        {
          "output_type": "stream",
          "name": "stdout",
          "text": [
            "Perplexity score: 3.5676213450081633\n",
            "Log perplexity score: 1.695865445077461\n"
          ]
        }
      ]
    },
    {
      "cell_type": "code",
      "metadata": {
        "colab": {
          "base_uri": "https://localhost:8080/"
        },
        "id": "PztCZH7Zdwwu",
        "outputId": "4033c243-4c31-4d10-fffc-1b93a88d5236"
      },
      "source": [
        "uqtestLength = 0\n",
        "for sentences in test_data_preprocessed:\n",
        "  uqtestLength += len(set(sentences))\n",
        "uqtestLength"
      ],
      "execution_count": 26,
      "outputs": [
        {
          "output_type": "execute_result",
          "data": {
            "text/plain": [
              "6637379"
            ]
          },
          "metadata": {},
          "execution_count": 26
        }
      ]
    },
    {
      "cell_type": "code",
      "metadata": {
        "colab": {
          "base_uri": "https://localhost:8080/"
        },
        "id": "SvTxVBoglhWO",
        "outputId": "d8a6c27e-d6f0-4764-efd4-fc3fd635a722"
      },
      "source": [
        "# Testing the function\n",
        "uni_counts = count_n_grams(test_data_preprocessed, 1)\n",
        "bi_counts = count_n_grams(test_data_preprocessed, 2)\n",
        "\n",
        "tokens = [\"i\", \"like\"]\n",
        "score = calculate_perplexity(tokens, uni_counts, bi_counts, uqtestLength, k=1.0)\n",
        "print(f\"Perplexity score: {score}\")\n",
        "log_score = calculate_perplexity_log(tokens, uni_counts, bi_counts, uqtestLength, k=1.0)\n",
        "print(f\"Log perplexity score: {log_score}\")"
      ],
      "execution_count": 32,
      "outputs": [
        {
          "output_type": "stream",
          "name": "stdout",
          "text": [
            "Perplexity score: 385.7622725601125\n",
            "Log perplexity score: 7.940295074053086\n"
          ]
        }
      ]
    },
    {
      "cell_type": "code",
      "metadata": {
        "colab": {
          "base_uri": "https://localhost:8080/"
        },
        "id": "Y4kNVf0MhhFA",
        "outputId": "43e59f83-9c05-4396-f751-021dedcee070"
      },
      "source": [
        "twenty_counts = count_n_grams(test_data_preprocessed, 20)\n",
        "twentytwo_counts = count_n_grams(test_data_preprocessed, 22)\n",
        "\n",
        "tokens = [\"i\", \"like\"]\n",
        "score = calculate_perplexity(tokens, twenty_counts, twentytwo_counts, uqtestLength, k=1.0)\n",
        "print(f\"Perplexity score: {score}\")\n",
        "log_score = calculate_perplexity_log(tokens, twenty_counts, twentytwo_counts, uqtestLength, k=1.0)\n",
        "print(f\"Log perplexity score: {log_score}\")"
      ],
      "execution_count": 35,
      "outputs": [
        {
          "output_type": "stream",
          "name": "stdout",
          "text": [
            "Perplexity score: 7.785174429928315\n",
            "Log perplexity score: 0.0\n"
          ]
        }
      ]
    },
    {
      "cell_type": "markdown",
      "metadata": {
        "id": "b2WOGmSXiA1B"
      },
      "source": [
        "When n is a lower number (like 1 or 2) perplexity score is high. As value of n increases perplexity score decreases. This happens due to the size of the test data. However on small samples, we see a smaller value of n gives good perplexity scores."
      ]
    },
    {
      "cell_type": "markdown",
      "metadata": {
        "id": "ZNMGA9f4B9fF"
      },
      "source": [
        "## Building an auto-complete system"
      ]
    },
    {
      "cell_type": "markdown",
      "metadata": {
        "id": "bDSKHvIzYyL3"
      },
      "source": [
        "Combining the language models to implement an auto-complete system."
      ]
    },
    {
      "cell_type": "code",
      "metadata": {
        "id": "0ggzul76CGLV"
      },
      "source": [
        "def suggest_a_word(previous_tokens, n_gram_counts, n_plus1_gram_counts, vocabulary, k=1.0, start_with=None):\n",
        "  \"\"\"\n",
        "  Get suggestion for the next word\n",
        "\n",
        "  Arguments:\n",
        "    previous_tokens: The sentence you input where each token is a word. Must have length > n\n",
        "    n_gram_counts: Dictionary of counts of n-grams\n",
        "    n_plus1_gram_counts: Dictionary pf counts of (n+1)-grams\n",
        "    vocabulary: List of words\n",
        "    k: positive constant, smoothing parameter\n",
        "    start_with: If not None, specifies the first few letters of the next word\n",
        "  Returns:\n",
        "    A tuple of string of the most likely next word and corresponding probability\n",
        "  \"\"\"\n",
        "  n = len(list(n_gram_counts.keys())[0])\n",
        "  previous_n_gram = previous_tokens[-n:]\n",
        "  \n",
        "  probabilities = estimate_probabilities(previous_n_gram, n_gram_counts, n_plus1_gram_counts, vocabulary, k)\n",
        "\n",
        "  suggestion = None\n",
        "\n",
        "  max_prob = 0 \n",
        "  for word, prob in probabilities.items():\n",
        "    if start_with:\n",
        "      if word.startswith(start_with) == False:\n",
        "        continue\n",
        "    if prob > max_prob:\n",
        "      suggestion = word\n",
        "      max_prob = prob\n",
        "  return suggestion, max_prob"
      ],
      "execution_count": 36,
      "outputs": []
    },
    {
      "cell_type": "code",
      "metadata": {
        "colab": {
          "base_uri": "https://localhost:8080/"
        },
        "id": "Khd9IxPSZo4W",
        "outputId": "c79691af-9214-48fa-9f3c-d5f345836abd"
      },
      "source": [
        "# Testing the function\n",
        "sentences = [['i', 'like', 'a', 'cat'],\n",
        "             ['this', 'dog', 'is', 'like', 'a', 'cat']]\n",
        "unique_words = list(set(sentences[0] + sentences[1]))\n",
        "\n",
        "unigram_counts = count_n_grams(sentences, 1)\n",
        "bigram_counts = count_n_grams(sentences, 2)\n",
        "\n",
        "previous_tokens = [\"i\", \"like\"]\n",
        "tmp_suggest1 = suggest_a_word(previous_tokens, unigram_counts, bigram_counts, unique_words, k=1.0)\n",
        "print(f\"The previous words are 'i like',\\n\\tand the suggested word is `{tmp_suggest1[0]}` with a probability of {tmp_suggest1[1]:.4f}\")\n",
        "\n",
        "print()\n",
        "# Setting the starts_with\n",
        "tmp_starts_with = 'c'\n",
        "tmp_suggest2 = suggest_a_word(previous_tokens, unigram_counts, bigram_counts, unique_words, k=1.0, start_with=tmp_starts_with)\n",
        "print(f\"The previous words are 'i like', the suggestion must start with `{tmp_starts_with}`\\n\\tand the suggested word is `{tmp_suggest2[0]}` with a probability of {tmp_suggest2[1]:.4f}\\n\")"
      ],
      "execution_count": 37,
      "outputs": [
        {
          "output_type": "stream",
          "name": "stdout",
          "text": [
            "The previous words are 'i like',\n",
            "\tand the suggested word is `a` with a probability of 0.2727\n",
            "\n",
            "The previous words are 'i like', the suggestion must start with `c`\n",
            "\tand the suggested word is `cat` with a probability of 0.0909\n",
            "\n"
          ]
        }
      ]
    },
    {
      "cell_type": "markdown",
      "metadata": {
        "id": "XAphVxmBaoRl"
      },
      "source": [
        "The function defined below loop over varioud n-gram models to get multiple suggestions."
      ]
    },
    {
      "cell_type": "code",
      "metadata": {
        "id": "EI4lCaVlFCFl"
      },
      "source": [
        "def get_suggestions(previous_tokens, n_gram_counts_list, vocabulary, k=1.0, start_with=None):\n",
        "  \"\"\"\n",
        "  This function loops over various n-gram models to get multiple suggestions\n",
        "  \"\"\"\n",
        "  model_counts = len(n_gram_counts_list)\n",
        "  suggestions = []\n",
        "  for i in range(model_counts - 1):\n",
        "    n_gram_counts = n_gram_counts_list[i]\n",
        "    n_plus1_gram_counts = n_gram_counts_list[i + 1]\n",
        "    suggestion = suggest_a_word(previous_tokens, n_gram_counts, n_plus1_gram_counts, vocabulary, k, start_with)\n",
        "    suggestions.append(suggestion)\n",
        "  return suggestions "
      ],
      "execution_count": 38,
      "outputs": []
    },
    {
      "cell_type": "code",
      "metadata": {
        "colab": {
          "base_uri": "https://localhost:8080/",
          "height": 104
        },
        "id": "xgaEXGSfa2Fu",
        "outputId": "ec9e65db-eb7a-41d0-9392-aa9567d5d182"
      },
      "source": [
        "# Testing the function\n",
        "sentences = [['i', 'like', 'a', 'cat'],\n",
        "             ['this', 'dog', 'is', 'like', 'a', 'cat']]\n",
        "unique_words = list(set(sentences[0] + sentences[1]))\n",
        "\n",
        "unigram_counts = count_n_grams(sentences, 1)\n",
        "bigram_counts = count_n_grams(sentences, 2)\n",
        "trigram_counts = count_n_grams(sentences, 3)\n",
        "quadgram_counts = count_n_grams(sentences, 4)\n",
        "qintgram_counts = count_n_grams(sentences, 5)\n",
        "\n",
        "n_gram_counts_list = [unigram_counts, bigram_counts, trigram_counts, quadgram_counts, qintgram_counts]\n",
        "previous_tokens = [\"i\", \"like\"]\n",
        "tmp_suggest3 = get_suggestions(previous_tokens, n_gram_counts_list, unique_words, k=1.0)\n",
        "\n",
        "print(f\"The previous words are 'i like', the suggestions are:\")\n",
        "display(tmp_suggest3)"
      ],
      "execution_count": 39,
      "outputs": [
        {
          "output_type": "stream",
          "name": "stdout",
          "text": [
            "The previous words are 'i like', the suggestions are:\n"
          ]
        },
        {
          "output_type": "display_data",
          "data": {
            "text/plain": [
              "[('a', 0.2727272727272727),\n",
              " ('a', 0.2),\n",
              " ('this', 0.1111111111111111),\n",
              " ('this', 0.1111111111111111)]"
            ]
          },
          "metadata": {}
        }
      ]
    },
    {
      "cell_type": "markdown",
      "metadata": {
        "id": "KD31X4RGbRTV"
      },
      "source": [
        "The following suggests multiple words using n-grams of varying length"
      ]
    },
    {
      "cell_type": "code",
      "metadata": {
        "colab": {
          "base_uri": "https://localhost:8080/"
        },
        "id": "22iKffAyG82l",
        "outputId": "5b736ec7-41b9-4d9a-d7d7-139c2316770f"
      },
      "source": [
        "n_gram_counts_list = []\n",
        "for n in range(1,4):\n",
        "  print(\"Computing n-gram counts with n = \", n)\n",
        "  n_model_counts = count_n_grams(train_data_preprocessed, n)\n",
        "  n_gram_counts_list.append(n_model_counts)"
      ],
      "execution_count": 40,
      "outputs": [
        {
          "output_type": "stream",
          "name": "stdout",
          "text": [
            "Computing n-gram counts with n =  1\n",
            "Computing n-gram counts with n =  2\n",
            "Computing n-gram counts with n =  3\n"
          ]
        }
      ]
    },
    {
      "cell_type": "code",
      "metadata": {
        "id": "uthtbeeyHW09",
        "colab": {
          "base_uri": "https://localhost:8080/",
          "height": 52
        },
        "outputId": "5e3f080a-2a8f-4b47-d9b7-e4ad4b46e395"
      },
      "source": [
        "previous_tokens = [\"hey\", \"how\", \"are\", \"you\"]\n",
        "tmp_suggest4 = get_suggestions(previous_tokens, n_gram_counts_list, vocabulary, 1.0)\n",
        "print(f\"The previous words are {previous_tokens}, the suggestions are: \")\n",
        "display(tmp_suggest4)"
      ],
      "execution_count": 41,
      "outputs": [
        {
          "output_type": "stream",
          "name": "stdout",
          "text": [
            "The previous words are ['hey', 'how', 'are', 'you'], the suggestions are: \n"
          ]
        },
        {
          "output_type": "display_data",
          "data": {
            "text/plain": [
              "[(\"'re\", 0.047302884806158484), ('?', 0.0123517468564775)]"
            ]
          },
          "metadata": {}
        }
      ]
    },
    {
      "cell_type": "code",
      "metadata": {
        "id": "31DFJbJxIOnL",
        "colab": {
          "base_uri": "https://localhost:8080/",
          "height": 52
        },
        "outputId": "a6fdf995-a0bf-4ce6-92f5-0585202dfdb5"
      },
      "source": [
        "previous_tokens = [\"hey\", \"how\", \"are\", \"you\"]\n",
        "tmp_suggest5 = get_suggestions(previous_tokens, n_gram_counts_list, vocabulary, 1.0, \"d\")\n",
        "print(f\"The previous words are {previous_tokens}, the suggestions are: \")\n",
        "display(tmp_suggest5)"
      ],
      "execution_count": 42,
      "outputs": [
        {
          "output_type": "stream",
          "name": "stdout",
          "text": [
            "The previous words are ['hey', 'how', 'are', 'you'], the suggestions are: \n"
          ]
        },
        {
          "output_type": "display_data",
          "data": {
            "text/plain": [
              "[('do', 0.017694535931113843), ('doing', 0.0067112523185124074)]"
            ]
          },
          "metadata": {}
        }
      ]
    },
    {
      "cell_type": "markdown",
      "metadata": {
        "id": "WuG7sgS0IZbE"
      },
      "source": [
        "--------------------------------------------------------------------------------------------------------------------------------"
      ]
    }
  ]
}